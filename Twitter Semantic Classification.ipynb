{
 "cells": [
  {
   "cell_type": "code",
   "execution_count": 178,
   "metadata": {},
   "outputs": [
    {
     "data": {
      "text/plain": [
       "['#FollowFriday @France_Inte @PKuchly57 @Milipol_Paris for being top engaged members in my community this week :)',\n",
       " '@Lamb2ja Hey James! How odd :/ Please call our Contact Centre on 02392441234 and we will be able to assist you :) Many thanks!',\n",
       " '@DespiteOfficial we had a listen last night :) As You Bleed is an amazing track. When are you in Scotland?!',\n",
       " '@97sides CONGRATS :)',\n",
       " 'yeaaaah yippppy!!!  my accnt verified rqst has succeed got a blue tick mark on my fb profile :) in 15 days']"
      ]
     },
     "execution_count": 178,
     "metadata": {},
     "output_type": "execute_result"
    }
   ],
   "source": [
    "#GETTING DATA\n",
    "import nltk\n",
    "import json\n",
    "from random import shuffle\n",
    "from nltk.corpus import twitter_samples\n",
    "#nltk.download(\"twitter_samples\")\n",
    "#nltk.download(\"stopwords\")\n",
    "#nltk.download(\"punkt\")\n",
    "#nltk.download(\"wordnet\")\n",
    "\n",
    "positive = twitter_samples.strings(\"positive_tweets.json\")\n",
    "negative = twitter_samples.strings(\"negative_tweets.json\")\n",
    "all_tweets = positive + negative\n",
    "split = len(positive)//4\n",
    "all_tweets[:5]"
   ]
  },
  {
   "cell_type": "code",
   "execution_count": 179,
   "metadata": {},
   "outputs": [],
   "source": [
    "#FILTERING TWEETS\n",
    "from nltk.tokenize import word_tokenize\n",
    "from nltk.corpus import stopwords\n",
    "from nltk.stem import PorterStemmer\n",
    "from nltk.stem import WordNetLemmatizer\n",
    "import re\n",
    "\n",
    "def filter_tweet(tweet):\n",
    "    stop_words = set(stopwords.words(\"english\")) #storing stop words in set\n",
    "    lem = WordNetLemmatizer()\n",
    "    tweet = re.sub(r'@[A-Za-z0-9_-]+', '', str(tweet)) #removing @'s'\n",
    "    tweet = re.sub(r'&amp;*', '', tweet) #removing &amp\n",
    "    tweet = re.sub(r'https?:\\/\\/\\S+', '', tweet) #removing hyperlinks\n",
    "    tweet = re.sub(r'#', '', tweet)\n",
    "    tweet = re.sub(r'\\s{2,}', ' ', tweet) #removing extra spaces\n",
    "    tweet_token = word_tokenize(tweet) #tokenizing string by words\n",
    "    tweet = [lem.lemmatize(w.lower()) for w in tweet_token if w.lower() not in stop_words] #removing stop words and getting base form of word\n",
    "    return tweet"
   ]
  },
  {
   "cell_type": "code",
   "execution_count": 180,
   "metadata": {},
   "outputs": [],
   "source": [
    "pos_filtered = list(map(filter_tweet, positive))\n",
    "neg_filtered = list(map(filter_tweet, negative))"
   ]
  },
  {
   "cell_type": "code",
   "execution_count": 181,
   "metadata": {},
   "outputs": [
    {
     "data": {
      "text/plain": [
       "[['followfriday', 'top', 'engaged', 'member', 'community', 'week', ':', ')'],\n",
       " ['hey',\n",
       "  'james',\n",
       "  '!',\n",
       "  'odd',\n",
       "  ':',\n",
       "  '/',\n",
       "  'please',\n",
       "  'call',\n",
       "  'contact',\n",
       "  'centre',\n",
       "  '02392441234',\n",
       "  'able',\n",
       "  'assist',\n",
       "  ':',\n",
       "  ')',\n",
       "  'many',\n",
       "  'thanks',\n",
       "  '!']]"
      ]
     },
     "execution_count": 181,
     "metadata": {},
     "output_type": "execute_result"
    }
   ],
   "source": [
    "pos_filtered[:2]"
   ]
  },
  {
   "cell_type": "code",
   "execution_count": 182,
   "metadata": {},
   "outputs": [
    {
     "name": "stdout",
     "output_type": "stream",
     "text": [
      "[POS] Most common (alpha values):\n",
      " [('thanks', 393), ('u', 361), ('love', 325), ('follow', 307), ('thank', 246)]\n",
      "[POS] Most common (all values):\n",
      " [(':', 5475), (')', 5160), ('!', 1920), ('.', 1229), (',', 963)]\n",
      "[NEG] Most common (alpha values):\n",
      " [('please', 274), ('miss', 243), ('u', 234), ('want', 226), ('like', 211)]\n",
      "[NEG] Most common (all values):\n",
      " [('(', 7075), (':', 5397), ('.', 1028), ('!', 895), (',', 733)]\n"
     ]
    }
   ],
   "source": [
    "#LOOKING AT FREQ DISTR FOR MOST COMMON WORDS\n",
    "fdpos_char = nltk.FreqDist(w for tweet in pos_filtered for w in tweet if w.isalpha())\n",
    "fdpos_all = nltk.FreqDist(w for tweet in pos_filtered for w in tweet)\n",
    "fdneg_char = nltk.FreqDist(w for tweet in neg_filtered for w in tweet if w.isalpha())\n",
    "fdneg_all = nltk.FreqDist(w for tweet in neg_filtered for w in tweet)\n",
    "#fd_char.tabulate(100)\n",
    "print(\"[POS] Most common (alpha values):\\n\", fdpos_char.most_common(5))\n",
    "print(\"[POS] Most common (all values):\\n\", fdpos_all.most_common(5))\n",
    "print(\"[NEG] Most common (alpha values):\\n\", fdneg_char.most_common(5))\n",
    "print(\"[NEG] Most common (all values):\\n\", fdneg_all.most_common(5))\n"
   ]
  },
  {
   "cell_type": "code",
   "execution_count": 183,
   "metadata": {},
   "outputs": [
    {
     "name": "stdout",
     "output_type": "stream",
     "text": [
      "(':', ')') (':', '-') ('-', ')') ('!', ':') (')', ')') \n",
      "      3743        710        708        616        605 \n",
      "(':', '-', ')') ('!', ':', ')') (')', ')', ')') ('.', ':', ')') (':', ')', ')') \n",
      "            701             397             326             258             232 \n"
     ]
    }
   ],
   "source": [
    "#LOOKING AT MOST COMMON COMBINATIONS\n",
    "from nltk.collocations import BigramCollocationFinder\n",
    "from nltk.collocations import TrigramCollocationFinder\n",
    "\n",
    "finder_bi = BigramCollocationFinder.from_words(w for tweet in pos_filtered for w in tweet)\n",
    "finder_bichar = BigramCollocationFinder.from_words(w for tweet in pos_filtered for w in tweet if w.isalpha()) #filtering out symbols & punctuation\n",
    "finder_tri = TrigramCollocationFinder.from_words(w for tweet in pos_filtered for w in tweet) #filtering out symbols & punctuation\n",
    "finder_bi.ngram_fd.tabulate(5) #finding most common pair of two-word combinations\n",
    "finder_tri.ngram_fd.tabulate(5) #finding most common pair of three-word combinations\n",
    "pair_symb = finder_bi.ngram_fd.most_common(5)\n",
    "trio_symb = finder_tri.ngram_fd.most_common(5)"
   ]
  },
  {
   "cell_type": "code",
   "execution_count": 184,
   "metadata": {},
   "outputs": [
    {
     "data": {
      "image/png": "[encoded data removed]",
      "text/plain": [
       "<Figure size 432x288 with 1 Axes>"
      ]
     },
     "metadata": {
      "needs_background": "light"
     },
     "output_type": "display_data"
    },
    {
     "data": {
      "image/png": "[encoded data removed]",
      "text/plain": [
       "<Figure size 432x288 with 1 Axes>"
      ]
     },
     "metadata": {
      "needs_background": "light"
     },
     "output_type": "display_data"
    }
   ],
   "source": [
    "#VISUALIZING MOST COMMON WORDS\n",
    "import pandas as pd\n",
    "import matplotlib.pyplot as plt\n",
    "import seaborn as sns\n",
    "\n",
    "pos_words = pd.DataFrame(fdpos_char.most_common(10), columns=[\"Word\", \"Occurrence\"])\n",
    "sns.barplot(x=\"Word\", y=\"Occurrence\", data=pos_words)\n",
    "plt.title(label=\"Top 10 Positive Words\")\n",
    "plt.show()\n",
    "\n",
    "neg_words = pd.DataFrame(fdneg_char.most_common(10), columns=[\"Word\", \"Occurrence\"])\n",
    "sns.barplot(x=\"Word\", y=\"Occurrence\", data=neg_words)\n",
    "plt.title(label=\"Top 10 Negative Words\")\n",
    "plt.show()"
   ]
  },
  {
   "cell_type": "code",
   "execution_count": 185,
   "metadata": {},
   "outputs": [],
   "source": [
    "#EXTRACTING FEATURES FROM TWEET\n",
    "from nltk.sentiment import SentimentIntensityAnalyzer\n",
    "from nltk.tokenize import word_tokenize\n",
    "import pandas as pd\n",
    "\n",
    "lem = WordNetLemmatizer()\n",
    "top_100_pos = [lem.lemmatize(word[0]) for word in fdpos_char.most_common(100)]\n",
    "top_100_neg = [lem.lemmatize(word[0]) for word in fdneg_char.most_common(100)]\n",
    "def extract_features(tweet_list, sent): #returns dataframe with features from each tweet in tweet_list\n",
    "    sia = SentimentIntensityAnalyzer()\n",
    "    ucase_count = 0\n",
    "    at_count = 0\n",
    "    results_df = pd.DataFrame(columns=\n",
    "                              [\"tweet\", \n",
    "                               \"pos_words\", \n",
    "                               \"neg_words\", \n",
    "                               \"ucase_count\", \n",
    "                               \"at_count\",\n",
    "                               \"word_count\", \n",
    "                               \"punctuation_count\", \n",
    "                               \"sia_compound\", \n",
    "                               \"sentiment\"])\n",
    "    for tweet in tweet_list:\n",
    "        pos = neg = 0\n",
    "        ucase_count = len(re.findall(r'[A-Z]{2,}', tweet))\n",
    "        at_count = len(re.findall(r'@+', tweet))\n",
    "        filtered_tweet = filter_tweet(tweet) #filtering tweet\n",
    "        punct_count = len([w for w in filtered_tweet if not w.isalpha()]) #getting punctuation count\n",
    "        word_count = len(filtered_tweet) - punct_count #getting word count\n",
    "        pos += len(re.findall(r':-?\\)+', tweet)) #counting occurences of pos symbols\n",
    "        neg += len(re.findall(r':-?\\(+', tweet)) #counting occurence of neg symbols\n",
    "        for word in filtered_tweet:\n",
    "            if word in top_100_pos: \n",
    "                pos += 1 #counting occurrences of pos words\n",
    "            if word in top_100_neg: \n",
    "                neg += 1 #counting occurrences of neg words\n",
    "        results_df = results_df.append({\n",
    "            \"tweet\": tweet, \n",
    "            \"pos_words\": pos, \n",
    "            \"neg_words\": neg, \n",
    "            \"ucase_count\": ucase_count,\n",
    "            \"at_count\": at_count,\n",
    "            \"word_count\": word_count, #word count of filtered tweet\n",
    "            \"punctuation_count\": punct_count, #punct count of filtered tweet\n",
    "            \"sia_compound\": sia.polarity_scores(tweet)[\"compound\"], #getting compound polarity score (range from -1 to 1, 1 being more pos, -1 being more negative)\n",
    "            \"sentiment\": 0 if sent == \"pos\" else 1},\n",
    "            ignore_index=True)\n",
    "    return results_df"
   ]
  },
  {
   "cell_type": "code",
   "execution_count": 186,
   "metadata": {},
   "outputs": [],
   "source": [
    "#COMBINING POS AND NEG DF INTO SINGLE A DF\n",
    "pos_df = extract_features(positive, \"pos\")\n",
    "neg_df = extract_features(negative, \"neg\")\n",
    "all_df = pd.concat([pos_df, neg_df], axis=0, join=\"outer\")"
   ]
  },
  {
   "cell_type": "code",
   "execution_count": 187,
   "metadata": {},
   "outputs": [
    {
     "data": {
      "text/html": [
       "<div>\n",
       "<style scoped>\n",
       "    .dataframe tbody tr th:only-of-type {\n",
       "        vertical-align: middle;\n",
       "    }\n",
       "\n",
       "    .dataframe tbody tr th {\n",
       "        vertical-align: top;\n",
       "    }\n",
       "\n",
       "    .dataframe thead th {\n",
       "        text-align: right;\n",
       "    }\n",
       "</style>\n",
       "<table border=\"1\" class=\"dataframe\">\n",
       "  <thead>\n",
       "    <tr style=\"text-align: right;\">\n",
       "      <th></th>\n",
       "      <th>tweet</th>\n",
       "      <th>pos_words</th>\n",
       "      <th>neg_words</th>\n",
       "      <th>ucase_count</th>\n",
       "      <th>at_count</th>\n",
       "      <th>word_count</th>\n",
       "      <th>punctuation_count</th>\n",
       "      <th>sia_compound</th>\n",
       "      <th>sentiment</th>\n",
       "    </tr>\n",
       "  </thead>\n",
       "  <tbody>\n",
       "    <tr>\n",
       "      <th>0</th>\n",
       "      <td>#FollowFriday @France_Inte @PKuchly57 @Milipol...</td>\n",
       "      <td>2</td>\n",
       "      <td>1</td>\n",
       "      <td>1</td>\n",
       "      <td>3</td>\n",
       "      <td>6</td>\n",
       "      <td>2</td>\n",
       "      <td>0.7579</td>\n",
       "      <td>0</td>\n",
       "    </tr>\n",
       "    <tr>\n",
       "      <th>1</th>\n",
       "      <td>@Lamb2ja Hey James! How odd :/ Please call our...</td>\n",
       "      <td>4</td>\n",
       "      <td>2</td>\n",
       "      <td>0</td>\n",
       "      <td>1</td>\n",
       "      <td>11</td>\n",
       "      <td>7</td>\n",
       "      <td>0.6229</td>\n",
       "      <td>0</td>\n",
       "    </tr>\n",
       "    <tr>\n",
       "      <th>2</th>\n",
       "      <td>@DespiteOfficial we had a listen last night :)...</td>\n",
       "      <td>4</td>\n",
       "      <td>2</td>\n",
       "      <td>0</td>\n",
       "      <td>1</td>\n",
       "      <td>7</td>\n",
       "      <td>5</td>\n",
       "      <td>0.7959</td>\n",
       "      <td>0</td>\n",
       "    </tr>\n",
       "    <tr>\n",
       "      <th>3</th>\n",
       "      <td>@97sides CONGRATS :)</td>\n",
       "      <td>1</td>\n",
       "      <td>0</td>\n",
       "      <td>1</td>\n",
       "      <td>1</td>\n",
       "      <td>1</td>\n",
       "      <td>2</td>\n",
       "      <td>0.7983</td>\n",
       "      <td>0</td>\n",
       "    </tr>\n",
       "    <tr>\n",
       "      <th>4</th>\n",
       "      <td>yeaaaah yippppy!!!  my accnt verified rqst has...</td>\n",
       "      <td>3</td>\n",
       "      <td>2</td>\n",
       "      <td>0</td>\n",
       "      <td>0</td>\n",
       "      <td>13</td>\n",
       "      <td>6</td>\n",
       "      <td>0.7950</td>\n",
       "      <td>0</td>\n",
       "    </tr>\n",
       "  </tbody>\n",
       "</table>\n",
       "</div>"
      ],
      "text/plain": [
       "                                               tweet pos_words neg_words  \\\n",
       "0  #FollowFriday @France_Inte @PKuchly57 @Milipol...         2         1   \n",
       "1  @Lamb2ja Hey James! How odd :/ Please call our...         4         2   \n",
       "2  @DespiteOfficial we had a listen last night :)...         4         2   \n",
       "3                               @97sides CONGRATS :)         1         0   \n",
       "4  yeaaaah yippppy!!!  my accnt verified rqst has...         3         2   \n",
       "\n",
       "  ucase_count at_count word_count punctuation_count  sia_compound sentiment  \n",
       "0           1        3          6                 2        0.7579         0  \n",
       "1           0        1         11                 7        0.6229         0  \n",
       "2           0        1          7                 5        0.7959         0  \n",
       "3           1        1          1                 2        0.7983         0  \n",
       "4           0        0         13                 6        0.7950         0  "
      ]
     },
     "execution_count": 187,
     "metadata": {},
     "output_type": "execute_result"
    }
   ],
   "source": [
    "all_df.head()"
   ]
  },
  {
   "cell_type": "code",
   "execution_count": 188,
   "metadata": {},
   "outputs": [
    {
     "name": "stdout",
     "output_type": "stream",
     "text": [
      "<class 'pandas.core.frame.DataFrame'>\n",
      "Int64Index: 10000 entries, 0 to 4999\n",
      "Data columns (total 9 columns):\n",
      " #   Column             Non-Null Count  Dtype  \n",
      "---  ------             --------------  -----  \n",
      " 0   tweet              10000 non-null  object \n",
      " 1   pos_words          10000 non-null  object \n",
      " 2   neg_words          10000 non-null  object \n",
      " 3   ucase_count        10000 non-null  object \n",
      " 4   at_count           10000 non-null  object \n",
      " 5   word_count         10000 non-null  object \n",
      " 6   punctuation_count  10000 non-null  object \n",
      " 7   sia_compound       10000 non-null  float64\n",
      " 8   sentiment          10000 non-null  object \n",
      "dtypes: float64(1), object(8)\n",
      "memory usage: 781.2+ KB\n"
     ]
    }
   ],
   "source": [
    "all_df.info() #looking for null values (shouldn't be any since data is preprocessed)"
   ]
  },
  {
   "cell_type": "code",
   "execution_count": 189,
   "metadata": {},
   "outputs": [
    {
     "name": "stdout",
     "output_type": "stream",
     "text": [
      "<class 'pandas.core.frame.DataFrame'>\n",
      "Int64Index: 10000 entries, 0 to 4999\n",
      "Data columns (total 9 columns):\n",
      " #   Column             Non-Null Count  Dtype  \n",
      "---  ------             --------------  -----  \n",
      " 0   tweet              10000 non-null  object \n",
      " 1   pos_words          10000 non-null  int32  \n",
      " 2   neg_words          10000 non-null  int32  \n",
      " 3   ucase_count        10000 non-null  int32  \n",
      " 4   at_count           10000 non-null  int32  \n",
      " 5   word_count         10000 non-null  int32  \n",
      " 6   punctuation_count  10000 non-null  int32  \n",
      " 7   sia_compound       10000 non-null  float64\n",
      " 8   sentiment          10000 non-null  int32  \n",
      "dtypes: float64(1), int32(7), object(1)\n",
      "memory usage: 507.8+ KB\n"
     ]
    }
   ],
   "source": [
    "#SPECIFYING APPROPRIATE DATA TYPE FOR EACH COLUMN\n",
    "convert = {\"tweet\": object,\n",
    "          \"pos_words\": int,\n",
    "          \"neg_words\": int,\n",
    "          \"ucase_count\": int,\n",
    "          \"at_count\": int,\n",
    "          \"word_count\": int,\n",
    "          \"punctuation_count\": int,\n",
    "          \"sia_compound\": float,\n",
    "          \"sentiment\": int}\n",
    "all_df = all_df.astype(convert)\n",
    "all_df.info()"
   ]
  },
  {
   "cell_type": "code",
   "execution_count": 190,
   "metadata": {},
   "outputs": [
    {
     "data": {
      "text/plain": [
       "0"
      ]
     },
     "execution_count": 190,
     "metadata": {},
     "output_type": "execute_result"
    }
   ],
   "source": [
    "all_df.duplicated().sum()"
   ]
  },
  {
   "cell_type": "code",
   "execution_count": 191,
   "metadata": {},
   "outputs": [],
   "source": [
    "from sklearn.model_selection import train_test_split\n",
    "#axis 0 = row: direction you want to move is down ACROSS rows\n",
    "#axis 1 = col: direction you want to move is ACROSS the column axis\n",
    "X = all_df.drop([\"tweet\", \"sentiment\", \"sia_compound\"], axis=1, inplace=False) \n",
    "y = all_df.sentiment\n",
    "\n",
    "#splitting data into train/test sets\n",
    "X_train, X_test, y_train, y_test = train_test_split(X, y, test_size=0.33)"
   ]
  },
  {
   "cell_type": "code",
   "execution_count": 158,
   "metadata": {},
   "outputs": [
    {
     "name": "stdout",
     "output_type": "stream",
     "text": [
      "(6700, 6)\n",
      "(3300, 6)\n",
      "(6700,)\n",
      "(3300,)\n"
     ]
    }
   ],
   "source": [
    "print(X_train.shape)\n",
    "print(X_test.shape)\n",
    "print(y_train.shape)\n",
    "print(y_test.shape)"
   ]
  },
  {
   "cell_type": "code",
   "execution_count": 166,
   "metadata": {},
   "outputs": [
    {
     "name": "stdout",
     "output_type": "stream",
     "text": [
      "Best estimator N: 18\n",
      "Best score: 0.93\n"
     ]
    },
    {
     "data": {
      "image/png": "[encoded data removed]",
      "text/plain": [
       "<Figure size 504x360 with 1 Axes>"
      ]
     },
     "metadata": {
      "needs_background": "light"
     },
     "output_type": "display_data"
    }
   ],
   "source": [
    "import numpy as np\n",
    "from numpy import mean, std\n",
    "from sklearn.neighbors import KNeighborsClassifier\n",
    "from sklearn.model_selection import cross_val_score\n",
    "from sklearn.model_selection import cross_val_predict\n",
    "from sklearn import metrics\n",
    "\n",
    "scores = []\n",
    "range_ = np.arange(1, 20, 1)\n",
    "best_n = 0\n",
    "best_score = 0\n",
    "for i in range_:\n",
    "    knn = KNeighborsClassifier(n_neighbors=i, metric=\"euclidean\") #creating KNN model object\n",
    "    knn.fit(X_train, y_train)\n",
    "    predicted = knn.predict(X_test)\n",
    "    score = metrics.accuracy_score(y_test, predicted)\n",
    "    if best_score < score and score < 1: #saving best score\n",
    "        best_score = score\n",
    "        best_n = i #saving best n estimator\n",
    "    scores.append(score)\n",
    "plt.figure(figsize=(7, 5))\n",
    "plt.title(\"Effect of Estimators\")\n",
    "plt.xlabel(\"Number of Neigbors K\")\n",
    "plt.ylabel(\"Score\")\n",
    "plt.plot(range_, scores)\n",
    "\n",
    "print(\"Best estimator N: {}\".format(best_n))\n",
    "print(\"Best score: {}\".format(best_score))"
   ]
  },
  {
   "cell_type": "code",
   "execution_count": 168,
   "metadata": {},
   "outputs": [
    {
     "data": {
      "text/plain": [
       "0.9299"
      ]
     },
     "execution_count": 168,
     "metadata": {},
     "output_type": "execute_result"
    }
   ],
   "source": [
    "#USING CROSS VALIDATION ON MODEL WITH BEST N\n",
    "from sklearn.model_selection import cross_val_score\n",
    "from sklearn.model_selection import cross_val_predict\n",
    "\n",
    "knn = KNeighborsClassifier(n_neighbors=best_n, metric=\"euclidean\") #creating KNN model object\n",
    "score = cross_val_score(knn, X, y, cv=10)\n",
    "pred = cross_val_predict(knn, X, y, cv=10)\n",
    "\n",
    "score.mean()"
   ]
  },
  {
   "cell_type": "code",
   "execution_count": null,
   "metadata": {},
   "outputs": [],
   "source": []
  },
  {
   "cell_type": "markdown",
   "metadata": {},
   "source": [
    "##### Recall: from all the positive classes (TP), how many we predicted correctly. Should be as high as possible\n",
    "##### Precision: from all the classes we have predicted as positive (TP), how many are actually positive. Should be as high as possible\n",
    "##### Accuracy: from all the classes (pos & neg), how many of them we have predicted correctly. Should be as high as possible\n",
    "##### F-score: helps measure recall and precision at the same time"
   ]
  },
  {
   "cell_type": "code",
   "execution_count": 175,
   "metadata": {},
   "outputs": [
    {
     "name": "stdout",
     "output_type": "stream",
     "text": [
      "              precision    recall  f1-score   support\n",
      "\n",
      "           0       0.93      0.93      0.93      5000\n",
      "           1       0.93      0.93      0.93      5000\n",
      "\n",
      "    accuracy                           0.93     10000\n",
      "   macro avg       0.93      0.93      0.93     10000\n",
      "weighted avg       0.93      0.93      0.93     10000\n",
      "\n"
     ]
    }
   ],
   "source": [
    "print(metrics.classification_report(y, pred))"
   ]
  },
  {
   "cell_type": "code",
   "execution_count": 162,
   "metadata": {},
   "outputs": [
    {
     "data": {
      "text/plain": [
       "0.9299"
      ]
     },
     "execution_count": 162,
     "metadata": {},
     "output_type": "execute_result"
    }
   ],
   "source": [
    "from sklearn import svm\n",
    "clf = svm.SVC()\n",
    "clf.fit(X_train, y_train)\n",
    "score = cross_val_score(knn, X, y, cv=5)\n",
    "pred = cross_val_predict(knn, X, y, cv=5)\n",
    "\n",
    "score.mean()"
   ]
  },
  {
   "cell_type": "code",
   "execution_count": 164,
   "metadata": {},
   "outputs": [
    {
     "data": {
      "text/plain": [
       "<matplotlib.axes._subplots.AxesSubplot at 0x157ac315760>"
      ]
     },
     "execution_count": 164,
     "metadata": {},
     "output_type": "execute_result"
    },
    {
     "data": {
      "image/png": "[encoded data removed]",
      "text/plain": [
       "<Figure size 432x288 with 2 Axes>"
      ]
     },
     "metadata": {
      "needs_background": "light"
     },
     "output_type": "display_data"
    }
   ],
   "source": [
    "#LOOKING AT BEST FEATURES\n",
    "import seaborn as sns\n",
    "sns.heatmap(all_df.corr())"
   ]
  },
  {
   "cell_type": "code",
   "execution_count": 165,
   "metadata": {},
   "outputs": [
    {
     "data": {
      "text/html": [
       "<div>\n",
       "<style scoped>\n",
       "    .dataframe tbody tr th:only-of-type {\n",
       "        vertical-align: middle;\n",
       "    }\n",
       "\n",
       "    .dataframe tbody tr th {\n",
       "        vertical-align: top;\n",
       "    }\n",
       "\n",
       "    .dataframe thead th {\n",
       "        text-align: right;\n",
       "    }\n",
       "</style>\n",
       "<table border=\"1\" class=\"dataframe\">\n",
       "  <thead>\n",
       "    <tr style=\"text-align: right;\">\n",
       "      <th></th>\n",
       "      <th>pos_words</th>\n",
       "      <th>neg_words</th>\n",
       "      <th>ucase_count</th>\n",
       "      <th>at_count</th>\n",
       "      <th>word_count</th>\n",
       "      <th>punctuation_count</th>\n",
       "      <th>sia_compound</th>\n",
       "      <th>sentiment</th>\n",
       "    </tr>\n",
       "  </thead>\n",
       "  <tbody>\n",
       "    <tr>\n",
       "      <th>pos_words</th>\n",
       "      <td>1.000000</td>\n",
       "      <td>0.533342</td>\n",
       "      <td>0.113907</td>\n",
       "      <td>0.103658</td>\n",
       "      <td>0.529278</td>\n",
       "      <td>0.281735</td>\n",
       "      <td>0.428149</td>\n",
       "      <td>-0.390369</td>\n",
       "    </tr>\n",
       "    <tr>\n",
       "      <th>neg_words</th>\n",
       "      <td>0.533342</td>\n",
       "      <td>1.000000</td>\n",
       "      <td>0.156637</td>\n",
       "      <td>-0.070646</td>\n",
       "      <td>0.544162</td>\n",
       "      <td>0.254798</td>\n",
       "      <td>-0.177634</td>\n",
       "      <td>0.368604</td>\n",
       "    </tr>\n",
       "    <tr>\n",
       "      <th>ucase_count</th>\n",
       "      <td>0.113907</td>\n",
       "      <td>0.156637</td>\n",
       "      <td>1.000000</td>\n",
       "      <td>0.074995</td>\n",
       "      <td>0.102111</td>\n",
       "      <td>0.143636</td>\n",
       "      <td>0.099277</td>\n",
       "      <td>0.015092</td>\n",
       "    </tr>\n",
       "    <tr>\n",
       "      <th>at_count</th>\n",
       "      <td>0.103658</td>\n",
       "      <td>-0.070646</td>\n",
       "      <td>0.074995</td>\n",
       "      <td>1.000000</td>\n",
       "      <td>-0.064843</td>\n",
       "      <td>-0.016096</td>\n",
       "      <td>0.193121</td>\n",
       "      <td>-0.187681</td>\n",
       "    </tr>\n",
       "    <tr>\n",
       "      <th>word_count</th>\n",
       "      <td>0.529278</td>\n",
       "      <td>0.544162</td>\n",
       "      <td>0.102111</td>\n",
       "      <td>-0.064843</td>\n",
       "      <td>1.000000</td>\n",
       "      <td>0.359036</td>\n",
       "      <td>0.084478</td>\n",
       "      <td>-0.031826</td>\n",
       "    </tr>\n",
       "    <tr>\n",
       "      <th>punctuation_count</th>\n",
       "      <td>0.281735</td>\n",
       "      <td>0.254798</td>\n",
       "      <td>0.143636</td>\n",
       "      <td>-0.016096</td>\n",
       "      <td>0.359036</td>\n",
       "      <td>1.000000</td>\n",
       "      <td>0.062830</td>\n",
       "      <td>0.007299</td>\n",
       "    </tr>\n",
       "    <tr>\n",
       "      <th>sia_compound</th>\n",
       "      <td>0.428149</td>\n",
       "      <td>-0.177634</td>\n",
       "      <td>0.099277</td>\n",
       "      <td>0.193121</td>\n",
       "      <td>0.084478</td>\n",
       "      <td>0.062830</td>\n",
       "      <td>1.000000</td>\n",
       "      <td>-0.752335</td>\n",
       "    </tr>\n",
       "    <tr>\n",
       "      <th>sentiment</th>\n",
       "      <td>-0.390369</td>\n",
       "      <td>0.368604</td>\n",
       "      <td>0.015092</td>\n",
       "      <td>-0.187681</td>\n",
       "      <td>-0.031826</td>\n",
       "      <td>0.007299</td>\n",
       "      <td>-0.752335</td>\n",
       "      <td>1.000000</td>\n",
       "    </tr>\n",
       "  </tbody>\n",
       "</table>\n",
       "</div>"
      ],
      "text/plain": [
       "                   pos_words  neg_words  ucase_count  at_count  word_count  \\\n",
       "pos_words           1.000000   0.533342     0.113907  0.103658    0.529278   \n",
       "neg_words           0.533342   1.000000     0.156637 -0.070646    0.544162   \n",
       "ucase_count         0.113907   0.156637     1.000000  0.074995    0.102111   \n",
       "at_count            0.103658  -0.070646     0.074995  1.000000   -0.064843   \n",
       "word_count          0.529278   0.544162     0.102111 -0.064843    1.000000   \n",
       "punctuation_count   0.281735   0.254798     0.143636 -0.016096    0.359036   \n",
       "sia_compound        0.428149  -0.177634     0.099277  0.193121    0.084478   \n",
       "sentiment          -0.390369   0.368604     0.015092 -0.187681   -0.031826   \n",
       "\n",
       "                   punctuation_count  sia_compound  sentiment  \n",
       "pos_words                   0.281735      0.428149  -0.390369  \n",
       "neg_words                   0.254798     -0.177634   0.368604  \n",
       "ucase_count                 0.143636      0.099277   0.015092  \n",
       "at_count                   -0.016096      0.193121  -0.187681  \n",
       "word_count                  0.359036      0.084478  -0.031826  \n",
       "punctuation_count           1.000000      0.062830   0.007299  \n",
       "sia_compound                0.062830      1.000000  -0.752335  \n",
       "sentiment                   0.007299     -0.752335   1.000000  "
      ]
     },
     "execution_count": 165,
     "metadata": {},
     "output_type": "execute_result"
    }
   ],
   "source": [
    "all_df.corr()"
   ]
  }
 ],
 "metadata": {
  "kernelspec": {
   "display_name": "Python 3",
   "language": "python",
   "name": "python3"
  },
  "language_info": {
   "codemirror_mode": {
    "name": "ipython",
    "version": 3
   },
   "file_extension": ".py",
   "mimetype": "text/x-python",
   "name": "python",
   "nbconvert_exporter": "python",
   "pygments_lexer": "ipython3",
   "version": "3.8.3"
  }
 },
 "nbformat": 4,
 "nbformat_minor": 4
}
